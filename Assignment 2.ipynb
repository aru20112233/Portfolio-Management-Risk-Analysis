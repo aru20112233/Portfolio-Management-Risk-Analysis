{
 "cells": [
  {
   "cell_type": "code",
   "execution_count": 1,
   "id": "14f69e7e",
   "metadata": {},
   "outputs": [],
   "source": [
    "import pandas as pd\n",
    "import numpy as np"
   ]
  },
  {
   "cell_type": "code",
   "execution_count": 2,
   "id": "9e33b8df",
   "metadata": {},
   "outputs": [],
   "source": [
    "aryan = pd.read_csv('edhec-hedgefundindices.csv')\n",
    "aryan = np.array(aryan)\n",
    "aryan = pd.DataFrame(aryan)"
   ]
  },
  {
   "cell_type": "code",
   "execution_count": 3,
   "id": "0eb863ff",
   "metadata": {},
   "outputs": [],
   "source": [
    "ConvertibleArbitrage = aryan.loc[:,1]\n",
    "CTAGlobal = aryan.loc[:,2]\n",
    "DistressedSecurities = aryan.loc[:,3]\n",
    "EmergingMarkets = aryan.loc[:,4]\n",
    "EquityMarketNeutral = aryan.loc[:,5]\n",
    "EventDriven = aryan.loc[:,6]\n",
    "FixedIncomeArbitrage = aryan.loc[:,7]\n",
    "GlobalMacro = aryan.loc[:,8]\n",
    "LongShortEquity = aryan.loc[:,9]\n",
    "MergerArbitrage = aryan.loc[:,10]\n",
    "RelativeValue = aryan.loc[:,11]\n",
    "ShortSelling = aryan.loc[:,12]\n",
    "FundsOfFunds = aryan.loc[:,13]"
   ]
  },
  {
   "cell_type": "markdown",
   "id": "c3c4db2d",
   "metadata": {},
   "source": [
    "#  Input Name of Column without spaces for calculations"
   ]
  },
  {
   "cell_type": "code",
   "execution_count": 4,
   "id": "f1e7b741",
   "metadata": {},
   "outputs": [],
   "source": [
    "def moments(series,degree):\n",
    "    if degree==1:\n",
    "        mean1 = np.mean(series)\n",
    "        return mean1\n",
    "    elif degree==2:\n",
    "        variance1 = np.var(series)\n",
    "        return variance1\n",
    "    elif degree==3:\n",
    "        skewness=3*(np.mean(series)-np.median(series))/np.std(series)\n",
    "        return skewness\n",
    "    elif degree==4:\n",
    "        n = series.shape[0]\n",
    "        mean2 = np.mean(series)\n",
    "        for i in range (1,n+1):\n",
    "            series_values = aryan.loc[i,series]\n",
    "            mean2_diff_nume = series_values - mean2\n",
    "            mean2_diff_denom = series_values - mean2*mean2\n",
    "            kurtosis1 = n*((mean2_diff_nume**4)/mean2_diff_denom**2)\n",
    "        kurtosis1 = np.array(kurtosis1)\n",
    "        kurtosis1 = np.sum(kurtosis1)/n\n",
    "        return kurtosis1"
   ]
  },
  {
   "cell_type": "code",
   "execution_count": 5,
   "id": "aee42d2d",
   "metadata": {},
   "outputs": [],
   "source": [
    "def jarque_bera(series):\n",
    "    n = series.shape[0]\n",
    "    series_values = series.values\n",
    "    #compute mean and mean difference\n",
    "    mean3 = np.mean(series)\n",
    "    mean3_diff = series_values - mean3\n",
    "    #compute sample skewness\n",
    "    skew_numerator = (1/n) * sum(mean3_diff**3)\n",
    "    skew_denominator = ((1/n) * sum(mean3_diff**2))**(3/2)\n",
    "    s = skew_numerator/skew_denominator\n",
    "    #compute sample kurtosis\n",
    "    kurtosis_numerator = (1/n) * sum(mean3_diff**4)\n",
    "    kurtosis_denominator = ((1/n) * sum(mean3_diff**2))**2\n",
    "    k = kurtosis_numerator/kurtosis_denominator\n",
    "    #compute Jarque-Bera \n",
    "    jb = (n/6) * (s**2 + (1/4)*(k - 3)**2)\n",
    "    if jb==0:\n",
    "        return 1\n",
    "    else:\n",
    "        return 0"
   ]
  },
  {
   "cell_type": "markdown",
   "id": "f8d49161",
   "metadata": {},
   "source": [
    "#  Question 4 first part(skewness and kurtosis)"
   ]
  },
  {
   "cell_type": "code",
   "execution_count": 6,
   "id": "a9bf99de",
   "metadata": {},
   "outputs": [
    {
     "name": "stdout",
     "output_type": "stream",
     "text": [
      "\n",
      "this is skewness of all columns\n",
      "\n",
      "\n",
      "-0.17990549187331797\n",
      "0.3444071461354574\n",
      "-0.34463526054287275\n",
      "-0.30916459990427\n",
      "-0.2225197397633273\n",
      "-0.36899590154787715\n",
      "-0.295644875430328\n",
      "0.3272841967631983\n",
      "-0.23659958595813246\n",
      "-0.20127343673008122\n",
      "-0.23765134146948136\n",
      "0.22658124331842422\n",
      "-0.18105677789142266\n"
     ]
    }
   ],
   "source": [
    "#skewness (enter column name without spaces)\n",
    "print(\"\\nthis is skewness of all columns\\n\\n\")\n",
    "print(moments(ConvertibleArbitrage,3))\n",
    "print(moments(CTAGlobal,3))\n",
    "print(moments(DistressedSecurities,3))\n",
    "print(moments(EmergingMarkets,3))\n",
    "print(moments(EquityMarketNeutral,3))\n",
    "print(moments(EventDriven,3))\n",
    "print(moments(FixedIncomeArbitrage,3))\n",
    "print(moments(GlobalMacro,3))\n",
    "print(moments(LongShortEquity,3))\n",
    "print(moments(MergerArbitrage,3))\n",
    "print(moments(RelativeValue,3))\n",
    "print(moments(ShortSelling,3))\n",
    "print(moments(FundsOfFunds,3))"
   ]
  },
  {
   "cell_type": "markdown",
   "id": "256447f5",
   "metadata": {},
   "source": [
    "**maximum skewness is for CTAGloabal**\n",
    "\n",
    "**positive skewness is good**"
   ]
  },
  {
   "cell_type": "code",
   "execution_count": 7,
   "id": "fa31dd1f",
   "metadata": {},
   "outputs": [
    {
     "name": "stdout",
     "output_type": "stream",
     "text": [
      "\n",
      "this is kurtosis of all columns\n",
      "\n",
      "\n"
     ]
    },
    {
     "ename": "KeyError",
     "evalue": "'[1.19, 1.23, 0.78, 0.86, 1.56, 2.12, 1.93, 1.34, 1.22, 0.68, 1.45, 1.46, 1.44, 1.26, 0.56, -0.06, 0.6, -3.19, -1.96, -2.14, 2.69, 1.13, 2.19, 0.82, 1.36, 2.43, 1.66, 1.02, 1.01, 0.48, 0.96, 0.45, 1.24, 1.4, 2.27, 2.67, 2.23, 1.49, 1.79, 0.93, 1.62, 1.41, 0.52, -0.81, -0.02, 3.44, 1.82, 1.57, 0.33, 0.12, 0.91, 1.42, 1.17, 0.8, -0.94, 1.48, -0.49, 0.53, 0.04, -1.59, 0.5, 1.04, 2.51, 2.83, 1.33, 0.89, 1.5, -0.58, -0.72, -0.87, 1.71, 0.92, 0.54, 0.17, 0.61, 0.2, -1.28, -1.06, 0.13, 0.4, -0.17, -0.44, 0.81, -0.96, -1.4, -3.16, -1.33, 1.07, 1.64, 0.66, -0.15, 2.5, 1.16, 0.64, 0.98, 1.27, 1.3, 0.26, 1.1, 0.11, -0.53, -1.45, 1.61, 1.77, -1.31, -0.77, -0.09, -0.83, -3.17, 0.76, -1.88, -0.66, -10.27, -12.37, -2.76, 4.91, 2.35, 5.78, 2.41, 6.11, 3.15, 3.68, 2.15, 0.36, 2.29, 1.99, -2.44, 1.21, 1.89, 2.14, -0.12, 1.81, 0.38, -0.91, -0.33, -1.95, -1.9, 1.29, 0.29, 2.36, 2.18, 0.65, 0.72, 0.57, 0.41, 1.58, 0.09, 0.77, 0.46, 0.43, 0.95, 0.07, 1.37, 0.62, 0.47, -0.01, -0.03, -0.95, -1.11, 0.21, -0.86, -0.45, -0.63, -0.39, -1.27, -2.39, 1.7, 0.75, 0.16, 1.54, 0.7, 0.27, 0.31, 0.9, 1.47, 0.44, 0.22, 0.32, 0.84, 0.02, 0.25, -0.05, -0.14, -0.26, 0.24, 0.34, -0.73, -0.68] not in index'",
     "output_type": "error",
     "traceback": [
      "\u001b[1;31m---------------------------------------------------------------------------\u001b[0m",
      "\u001b[1;31mKeyError\u001b[0m                                  Traceback (most recent call last)",
      "Cell \u001b[1;32mIn[7], line 3\u001b[0m\n\u001b[0;32m      1\u001b[0m \u001b[38;5;66;03m#kurtosis\u001b[39;00m\n\u001b[0;32m      2\u001b[0m \u001b[38;5;28mprint\u001b[39m(\u001b[38;5;124m\"\u001b[39m\u001b[38;5;130;01m\\n\u001b[39;00m\u001b[38;5;124mthis is kurtosis of all columns\u001b[39m\u001b[38;5;130;01m\\n\u001b[39;00m\u001b[38;5;130;01m\\n\u001b[39;00m\u001b[38;5;124m\"\u001b[39m)\n\u001b[1;32m----> 3\u001b[0m \u001b[38;5;28mprint\u001b[39m(\u001b[38;5;124m\"\u001b[39m\u001b[38;5;124mConvertibleArbitrage: \u001b[39m\u001b[38;5;124m\"\u001b[39m,\u001b[43mmoments\u001b[49m\u001b[43m(\u001b[49m\u001b[43mConvertibleArbitrage\u001b[49m\u001b[43m,\u001b[49m\u001b[38;5;241;43m4\u001b[39;49m\u001b[43m)\u001b[49m)\n\u001b[0;32m      4\u001b[0m \u001b[38;5;28mprint\u001b[39m(\u001b[38;5;124m\"\u001b[39m\u001b[38;5;124mCTAGlobal: \u001b[39m\u001b[38;5;124m\"\u001b[39m, moments(CTAGlobal,\u001b[38;5;241m4\u001b[39m))\n\u001b[0;32m      5\u001b[0m \u001b[38;5;28mprint\u001b[39m(\u001b[38;5;124m\"\u001b[39m\u001b[38;5;124mDistressedSecurities: \u001b[39m\u001b[38;5;124m\"\u001b[39m, moments(DistressedSecurities,\u001b[38;5;241m4\u001b[39m))\n",
      "Cell \u001b[1;32mIn[4], line 15\u001b[0m, in \u001b[0;36mmoments\u001b[1;34m(series, degree)\u001b[0m\n\u001b[0;32m     13\u001b[0m mean2 \u001b[38;5;241m=\u001b[39m np\u001b[38;5;241m.\u001b[39mmean(series)\n\u001b[0;32m     14\u001b[0m \u001b[38;5;28;01mfor\u001b[39;00m i \u001b[38;5;129;01min\u001b[39;00m \u001b[38;5;28mrange\u001b[39m (\u001b[38;5;241m1\u001b[39m,n\u001b[38;5;241m+\u001b[39m\u001b[38;5;241m1\u001b[39m):\n\u001b[1;32m---> 15\u001b[0m     series_values \u001b[38;5;241m=\u001b[39m \u001b[43maryan\u001b[49m\u001b[38;5;241;43m.\u001b[39;49m\u001b[43mloc\u001b[49m\u001b[43m[\u001b[49m\u001b[43mi\u001b[49m\u001b[43m,\u001b[49m\u001b[43mseries\u001b[49m\u001b[43m]\u001b[49m\n\u001b[0;32m     16\u001b[0m     mean2_diff_nume \u001b[38;5;241m=\u001b[39m series_values \u001b[38;5;241m-\u001b[39m mean2\n\u001b[0;32m     17\u001b[0m     mean2_diff_denom \u001b[38;5;241m=\u001b[39m series_values \u001b[38;5;241m-\u001b[39m mean2\u001b[38;5;241m*\u001b[39mmean2\n",
      "File \u001b[1;32m~\\AppData\\Local\\Programs\\Python\\Python311\\Lib\\site-packages\\pandas\\core\\indexing.py:1097\u001b[0m, in \u001b[0;36m_LocationIndexer.__getitem__\u001b[1;34m(self, key)\u001b[0m\n\u001b[0;32m   1095\u001b[0m     \u001b[38;5;28;01mif\u001b[39;00m \u001b[38;5;28mself\u001b[39m\u001b[38;5;241m.\u001b[39m_is_scalar_access(key):\n\u001b[0;32m   1096\u001b[0m         \u001b[38;5;28;01mreturn\u001b[39;00m \u001b[38;5;28mself\u001b[39m\u001b[38;5;241m.\u001b[39mobj\u001b[38;5;241m.\u001b[39m_get_value(\u001b[38;5;241m*\u001b[39mkey, takeable\u001b[38;5;241m=\u001b[39m\u001b[38;5;28mself\u001b[39m\u001b[38;5;241m.\u001b[39m_takeable)\n\u001b[1;32m-> 1097\u001b[0m     \u001b[38;5;28;01mreturn\u001b[39;00m \u001b[38;5;28;43mself\u001b[39;49m\u001b[38;5;241;43m.\u001b[39;49m\u001b[43m_getitem_tuple\u001b[49m\u001b[43m(\u001b[49m\u001b[43mkey\u001b[49m\u001b[43m)\u001b[49m\n\u001b[0;32m   1098\u001b[0m \u001b[38;5;28;01melse\u001b[39;00m:\n\u001b[0;32m   1099\u001b[0m     \u001b[38;5;66;03m# we by definition only have the 0th axis\u001b[39;00m\n\u001b[0;32m   1100\u001b[0m     axis \u001b[38;5;241m=\u001b[39m \u001b[38;5;28mself\u001b[39m\u001b[38;5;241m.\u001b[39maxis \u001b[38;5;129;01mor\u001b[39;00m \u001b[38;5;241m0\u001b[39m\n",
      "File \u001b[1;32m~\\AppData\\Local\\Programs\\Python\\Python311\\Lib\\site-packages\\pandas\\core\\indexing.py:1280\u001b[0m, in \u001b[0;36m_LocIndexer._getitem_tuple\u001b[1;34m(self, tup)\u001b[0m\n\u001b[0;32m   1278\u001b[0m \u001b[38;5;28;01mwith\u001b[39;00m suppress(IndexingError):\n\u001b[0;32m   1279\u001b[0m     tup \u001b[38;5;241m=\u001b[39m \u001b[38;5;28mself\u001b[39m\u001b[38;5;241m.\u001b[39m_expand_ellipsis(tup)\n\u001b[1;32m-> 1280\u001b[0m     \u001b[38;5;28;01mreturn\u001b[39;00m \u001b[38;5;28;43mself\u001b[39;49m\u001b[38;5;241;43m.\u001b[39;49m\u001b[43m_getitem_lowerdim\u001b[49m\u001b[43m(\u001b[49m\u001b[43mtup\u001b[49m\u001b[43m)\u001b[49m\n\u001b[0;32m   1282\u001b[0m \u001b[38;5;66;03m# no multi-index, so validate all of the indexers\u001b[39;00m\n\u001b[0;32m   1283\u001b[0m tup \u001b[38;5;241m=\u001b[39m \u001b[38;5;28mself\u001b[39m\u001b[38;5;241m.\u001b[39m_validate_tuple_indexer(tup)\n",
      "File \u001b[1;32m~\\AppData\\Local\\Programs\\Python\\Python311\\Lib\\site-packages\\pandas\\core\\indexing.py:1024\u001b[0m, in \u001b[0;36m_LocationIndexer._getitem_lowerdim\u001b[1;34m(self, tup)\u001b[0m\n\u001b[0;32m   1022\u001b[0m             \u001b[38;5;28;01mreturn\u001b[39;00m section\n\u001b[0;32m   1023\u001b[0m         \u001b[38;5;66;03m# This is an elided recursive call to iloc/loc\u001b[39;00m\n\u001b[1;32m-> 1024\u001b[0m         \u001b[38;5;28;01mreturn\u001b[39;00m \u001b[38;5;28;43mgetattr\u001b[39;49m\u001b[43m(\u001b[49m\u001b[43msection\u001b[49m\u001b[43m,\u001b[49m\u001b[43m \u001b[49m\u001b[38;5;28;43mself\u001b[39;49m\u001b[38;5;241;43m.\u001b[39;49m\u001b[43mname\u001b[49m\u001b[43m)\u001b[49m\u001b[43m[\u001b[49m\u001b[43mnew_key\u001b[49m\u001b[43m]\u001b[49m\n\u001b[0;32m   1026\u001b[0m \u001b[38;5;28;01mraise\u001b[39;00m IndexingError(\u001b[38;5;124m\"\u001b[39m\u001b[38;5;124mnot applicable\u001b[39m\u001b[38;5;124m\"\u001b[39m)\n",
      "File \u001b[1;32m~\\AppData\\Local\\Programs\\Python\\Python311\\Lib\\site-packages\\pandas\\core\\indexing.py:1103\u001b[0m, in \u001b[0;36m_LocationIndexer.__getitem__\u001b[1;34m(self, key)\u001b[0m\n\u001b[0;32m   1100\u001b[0m axis \u001b[38;5;241m=\u001b[39m \u001b[38;5;28mself\u001b[39m\u001b[38;5;241m.\u001b[39maxis \u001b[38;5;129;01mor\u001b[39;00m \u001b[38;5;241m0\u001b[39m\n\u001b[0;32m   1102\u001b[0m maybe_callable \u001b[38;5;241m=\u001b[39m com\u001b[38;5;241m.\u001b[39mapply_if_callable(key, \u001b[38;5;28mself\u001b[39m\u001b[38;5;241m.\u001b[39mobj)\n\u001b[1;32m-> 1103\u001b[0m \u001b[38;5;28;01mreturn\u001b[39;00m \u001b[38;5;28;43mself\u001b[39;49m\u001b[38;5;241;43m.\u001b[39;49m\u001b[43m_getitem_axis\u001b[49m\u001b[43m(\u001b[49m\u001b[43mmaybe_callable\u001b[49m\u001b[43m,\u001b[49m\u001b[43m \u001b[49m\u001b[43maxis\u001b[49m\u001b[38;5;241;43m=\u001b[39;49m\u001b[43maxis\u001b[49m\u001b[43m)\u001b[49m\n",
      "File \u001b[1;32m~\\AppData\\Local\\Programs\\Python\\Python311\\Lib\\site-packages\\pandas\\core\\indexing.py:1332\u001b[0m, in \u001b[0;36m_LocIndexer._getitem_axis\u001b[1;34m(self, key, axis)\u001b[0m\n\u001b[0;32m   1329\u001b[0m     \u001b[38;5;28;01mif\u001b[39;00m \u001b[38;5;28mhasattr\u001b[39m(key, \u001b[38;5;124m\"\u001b[39m\u001b[38;5;124mndim\u001b[39m\u001b[38;5;124m\"\u001b[39m) \u001b[38;5;129;01mand\u001b[39;00m key\u001b[38;5;241m.\u001b[39mndim \u001b[38;5;241m>\u001b[39m \u001b[38;5;241m1\u001b[39m:\n\u001b[0;32m   1330\u001b[0m         \u001b[38;5;28;01mraise\u001b[39;00m \u001b[38;5;167;01mValueError\u001b[39;00m(\u001b[38;5;124m\"\u001b[39m\u001b[38;5;124mCannot index with multidimensional key\u001b[39m\u001b[38;5;124m\"\u001b[39m)\n\u001b[1;32m-> 1332\u001b[0m     \u001b[38;5;28;01mreturn\u001b[39;00m \u001b[38;5;28;43mself\u001b[39;49m\u001b[38;5;241;43m.\u001b[39;49m\u001b[43m_getitem_iterable\u001b[49m\u001b[43m(\u001b[49m\u001b[43mkey\u001b[49m\u001b[43m,\u001b[49m\u001b[43m \u001b[49m\u001b[43maxis\u001b[49m\u001b[38;5;241;43m=\u001b[39;49m\u001b[43maxis\u001b[49m\u001b[43m)\u001b[49m\n\u001b[0;32m   1334\u001b[0m \u001b[38;5;66;03m# nested tuple slicing\u001b[39;00m\n\u001b[0;32m   1335\u001b[0m \u001b[38;5;28;01mif\u001b[39;00m is_nested_tuple(key, labels):\n",
      "File \u001b[1;32m~\\AppData\\Local\\Programs\\Python\\Python311\\Lib\\site-packages\\pandas\\core\\indexing.py:1272\u001b[0m, in \u001b[0;36m_LocIndexer._getitem_iterable\u001b[1;34m(self, key, axis)\u001b[0m\n\u001b[0;32m   1269\u001b[0m \u001b[38;5;28mself\u001b[39m\u001b[38;5;241m.\u001b[39m_validate_key(key, axis)\n\u001b[0;32m   1271\u001b[0m \u001b[38;5;66;03m# A collection of keys\u001b[39;00m\n\u001b[1;32m-> 1272\u001b[0m keyarr, indexer \u001b[38;5;241m=\u001b[39m \u001b[38;5;28;43mself\u001b[39;49m\u001b[38;5;241;43m.\u001b[39;49m\u001b[43m_get_listlike_indexer\u001b[49m\u001b[43m(\u001b[49m\u001b[43mkey\u001b[49m\u001b[43m,\u001b[49m\u001b[43m \u001b[49m\u001b[43maxis\u001b[49m\u001b[43m)\u001b[49m\n\u001b[0;32m   1273\u001b[0m \u001b[38;5;28;01mreturn\u001b[39;00m \u001b[38;5;28mself\u001b[39m\u001b[38;5;241m.\u001b[39mobj\u001b[38;5;241m.\u001b[39m_reindex_with_indexers(\n\u001b[0;32m   1274\u001b[0m     {axis: [keyarr, indexer]}, copy\u001b[38;5;241m=\u001b[39m\u001b[38;5;28;01mTrue\u001b[39;00m, allow_dups\u001b[38;5;241m=\u001b[39m\u001b[38;5;28;01mTrue\u001b[39;00m\n\u001b[0;32m   1275\u001b[0m )\n",
      "File \u001b[1;32m~\\AppData\\Local\\Programs\\Python\\Python311\\Lib\\site-packages\\pandas\\core\\indexing.py:1462\u001b[0m, in \u001b[0;36m_LocIndexer._get_listlike_indexer\u001b[1;34m(self, key, axis)\u001b[0m\n\u001b[0;32m   1459\u001b[0m ax \u001b[38;5;241m=\u001b[39m \u001b[38;5;28mself\u001b[39m\u001b[38;5;241m.\u001b[39mobj\u001b[38;5;241m.\u001b[39m_get_axis(axis)\n\u001b[0;32m   1460\u001b[0m axis_name \u001b[38;5;241m=\u001b[39m \u001b[38;5;28mself\u001b[39m\u001b[38;5;241m.\u001b[39mobj\u001b[38;5;241m.\u001b[39m_get_axis_name(axis)\n\u001b[1;32m-> 1462\u001b[0m keyarr, indexer \u001b[38;5;241m=\u001b[39m \u001b[43max\u001b[49m\u001b[38;5;241;43m.\u001b[39;49m\u001b[43m_get_indexer_strict\u001b[49m\u001b[43m(\u001b[49m\u001b[43mkey\u001b[49m\u001b[43m,\u001b[49m\u001b[43m \u001b[49m\u001b[43maxis_name\u001b[49m\u001b[43m)\u001b[49m\n\u001b[0;32m   1464\u001b[0m \u001b[38;5;28;01mreturn\u001b[39;00m keyarr, indexer\n",
      "File \u001b[1;32m~\\AppData\\Local\\Programs\\Python\\Python311\\Lib\\site-packages\\pandas\\core\\indexes\\base.py:5876\u001b[0m, in \u001b[0;36mIndex._get_indexer_strict\u001b[1;34m(self, key, axis_name)\u001b[0m\n\u001b[0;32m   5873\u001b[0m \u001b[38;5;28;01melse\u001b[39;00m:\n\u001b[0;32m   5874\u001b[0m     keyarr, indexer, new_indexer \u001b[38;5;241m=\u001b[39m \u001b[38;5;28mself\u001b[39m\u001b[38;5;241m.\u001b[39m_reindex_non_unique(keyarr)\n\u001b[1;32m-> 5876\u001b[0m \u001b[38;5;28;43mself\u001b[39;49m\u001b[38;5;241;43m.\u001b[39;49m\u001b[43m_raise_if_missing\u001b[49m\u001b[43m(\u001b[49m\u001b[43mkeyarr\u001b[49m\u001b[43m,\u001b[49m\u001b[43m \u001b[49m\u001b[43mindexer\u001b[49m\u001b[43m,\u001b[49m\u001b[43m \u001b[49m\u001b[43maxis_name\u001b[49m\u001b[43m)\u001b[49m\n\u001b[0;32m   5878\u001b[0m keyarr \u001b[38;5;241m=\u001b[39m \u001b[38;5;28mself\u001b[39m\u001b[38;5;241m.\u001b[39mtake(indexer)\n\u001b[0;32m   5879\u001b[0m \u001b[38;5;28;01mif\u001b[39;00m \u001b[38;5;28misinstance\u001b[39m(key, Index):\n\u001b[0;32m   5880\u001b[0m     \u001b[38;5;66;03m# GH 42790 - Preserve name from an Index\u001b[39;00m\n",
      "File \u001b[1;32m~\\AppData\\Local\\Programs\\Python\\Python311\\Lib\\site-packages\\pandas\\core\\indexes\\base.py:5938\u001b[0m, in \u001b[0;36mIndex._raise_if_missing\u001b[1;34m(self, key, indexer, axis_name)\u001b[0m\n\u001b[0;32m   5935\u001b[0m     \u001b[38;5;28;01mraise\u001b[39;00m \u001b[38;5;167;01mKeyError\u001b[39;00m(\u001b[38;5;124mf\u001b[39m\u001b[38;5;124m\"\u001b[39m\u001b[38;5;124mNone of [\u001b[39m\u001b[38;5;132;01m{\u001b[39;00mkey\u001b[38;5;132;01m}\u001b[39;00m\u001b[38;5;124m] are in the [\u001b[39m\u001b[38;5;132;01m{\u001b[39;00maxis_name\u001b[38;5;132;01m}\u001b[39;00m\u001b[38;5;124m]\u001b[39m\u001b[38;5;124m\"\u001b[39m)\n\u001b[0;32m   5937\u001b[0m not_found \u001b[38;5;241m=\u001b[39m \u001b[38;5;28mlist\u001b[39m(ensure_index(key)[missing_mask\u001b[38;5;241m.\u001b[39mnonzero()[\u001b[38;5;241m0\u001b[39m]]\u001b[38;5;241m.\u001b[39munique())\n\u001b[1;32m-> 5938\u001b[0m \u001b[38;5;28;01mraise\u001b[39;00m \u001b[38;5;167;01mKeyError\u001b[39;00m(\u001b[38;5;124mf\u001b[39m\u001b[38;5;124m\"\u001b[39m\u001b[38;5;132;01m{\u001b[39;00mnot_found\u001b[38;5;132;01m}\u001b[39;00m\u001b[38;5;124m not in index\u001b[39m\u001b[38;5;124m\"\u001b[39m)\n",
      "\u001b[1;31mKeyError\u001b[0m: '[1.19, 1.23, 0.78, 0.86, 1.56, 2.12, 1.93, 1.34, 1.22, 0.68, 1.45, 1.46, 1.44, 1.26, 0.56, -0.06, 0.6, -3.19, -1.96, -2.14, 2.69, 1.13, 2.19, 0.82, 1.36, 2.43, 1.66, 1.02, 1.01, 0.48, 0.96, 0.45, 1.24, 1.4, 2.27, 2.67, 2.23, 1.49, 1.79, 0.93, 1.62, 1.41, 0.52, -0.81, -0.02, 3.44, 1.82, 1.57, 0.33, 0.12, 0.91, 1.42, 1.17, 0.8, -0.94, 1.48, -0.49, 0.53, 0.04, -1.59, 0.5, 1.04, 2.51, 2.83, 1.33, 0.89, 1.5, -0.58, -0.72, -0.87, 1.71, 0.92, 0.54, 0.17, 0.61, 0.2, -1.28, -1.06, 0.13, 0.4, -0.17, -0.44, 0.81, -0.96, -1.4, -3.16, -1.33, 1.07, 1.64, 0.66, -0.15, 2.5, 1.16, 0.64, 0.98, 1.27, 1.3, 0.26, 1.1, 0.11, -0.53, -1.45, 1.61, 1.77, -1.31, -0.77, -0.09, -0.83, -3.17, 0.76, -1.88, -0.66, -10.27, -12.37, -2.76, 4.91, 2.35, 5.78, 2.41, 6.11, 3.15, 3.68, 2.15, 0.36, 2.29, 1.99, -2.44, 1.21, 1.89, 2.14, -0.12, 1.81, 0.38, -0.91, -0.33, -1.95, -1.9, 1.29, 0.29, 2.36, 2.18, 0.65, 0.72, 0.57, 0.41, 1.58, 0.09, 0.77, 0.46, 0.43, 0.95, 0.07, 1.37, 0.62, 0.47, -0.01, -0.03, -0.95, -1.11, 0.21, -0.86, -0.45, -0.63, -0.39, -1.27, -2.39, 1.7, 0.75, 0.16, 1.54, 0.7, 0.27, 0.31, 0.9, 1.47, 0.44, 0.22, 0.32, 0.84, 0.02, 0.25, -0.05, -0.14, -0.26, 0.24, 0.34, -0.73, -0.68] not in index'"
     ]
    }
   ],
   "source": [
    "#kurtosis\n",
    "print(\"\\nthis is kurtosis of all columns\\n\\n\")\n",
    "print(\"ConvertibleArbitrage: \",moments(ConvertibleArbitrage,4))\n",
    "print(\"CTAGlobal: \", moments(CTAGlobal,4))\n",
    "print(\"DistressedSecurities: \", moments(DistressedSecurities,4))\n",
    "print(\"EmergingMarkets: \", moments(EmergingMarkets,4))\n",
    "print(\"EquityMarketNeutral: \", moments(EquityMarketNeutral,4))\n",
    "print(\"EventDriven: \", moments(EventDriven,4))\n",
    "print(\"FixedIncomeArbitrage: \", moments(FixedIncomeArbitrage,4))\n",
    "print(\"GlobalMacro: \", moments(GlobalMacro,4))\n",
    "print(\"LongShortEquity: \", moments(LongShortEquity,4))\n",
    "print(\"MergerArbitrage: \", moments(MergerArbitrage,4))\n",
    "print(\"RelativeValue: \", moments(RelativeValue,4))\n",
    "print(\"ShortSelling: \", moments(ShortSelling,4))\n",
    "print(\"FundsOfFunds: \", moments(FundsOfFunds,4))\n"
   ]
  }
 ],
 "metadata": {
  "kernelspec": {
   "display_name": "Python 3 (ipykernel)",
   "language": "python",
   "name": "python3"
  },
  "language_info": {
   "codemirror_mode": {
    "name": "ipython",
    "version": 3
   },
   "file_extension": ".py",
   "mimetype": "text/x-python",
   "name": "python",
   "nbconvert_exporter": "python",
   "pygments_lexer": "ipython3",
   "version": "3.11.3"
  }
 },
 "nbformat": 4,
 "nbformat_minor": 5
}
